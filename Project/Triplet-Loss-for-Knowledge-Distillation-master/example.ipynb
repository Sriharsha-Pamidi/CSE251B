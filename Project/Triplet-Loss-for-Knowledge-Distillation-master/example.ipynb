{
 "cells": [
  {
   "cell_type": "code",
   "execution_count": 1,
   "metadata": {},
   "outputs": [],
   "source": [
    "# to load dataset\n",
    "from datasets import Datasets\n",
    "from kd_triplet_datasets import KDTripletDataset\n",
    "\n",
    "# for network and training\n",
    "from network import Net_teacher, Net_student\n",
    "from network_fit import NetworkFit\n",
    "\n",
    "# to calculate the score\n",
    "import savescore\n",
    "from score import Score\n",
    "from score_calc import ScoreCalc\n",
    "\n",
    "# pytorch\n",
    "import torch\n",
    "import torchvision\n",
    "import torchvision.transforms as transforms\n",
    "import torch.nn as nn\n",
    "import torch.optim as optim\n",
    "\n",
    "# numpy and matplotlib\n",
    "import numpy as np\n",
    "import matplotlib.pyplot as plt"
   ]
  },
  {
   "cell_type": "code",
   "execution_count": 2,
   "metadata": {},
   "outputs": [],
   "source": [
    "# initialize for  each parameters\n",
    "DATASET = 'CIFAR10'\n",
    "BATCH_SIZE = 64\n",
    "NUM_WORKERS = 2\n",
    "\n",
    "WEIGHT_DECAY = 0.001\n",
    "LEARNING_RATE = 0.01\n",
    "MOMENTUM = 0.9\n",
    "\n",
    "SCHEDULER_STEPS = 10\n",
    "SCHEDULER_GAMMA = 0.1\n",
    "\n",
    "SEED = 1\n",
    "\n",
    "EPOCH = 100\n",
    "\n",
    "KD_LAMBDA = 10.0\n",
    "\n",
    "TRIPLET_MARGINE = 5.0"
   ]
  },
  {
   "cell_type": "code",
   "execution_count": 3,
   "metadata": {},
   "outputs": [],
   "source": [
    "# fixing the seed\n",
    "torch.cuda.manual_seed_all(SEED)\n",
    "torch.manual_seed(SEED)\n",
    "np.random.seed(SEED)"
   ]
  },
  {
   "cell_type": "code",
   "execution_count": 4,
   "metadata": {},
   "outputs": [
    {
     "name": "stdout",
     "output_type": "stream",
     "text": [
      "gpu mode\n"
     ]
    }
   ],
   "source": [
    "# check if gpu is available\n",
    "if torch.cuda.is_available():\n",
    "    device = torch.device(\"cuda:0\")\n",
    "    print(\"gpu mode\")\n",
    "else:\n",
    "    device = torch.device(\"cpu\")\n",
    "    print(\"cpu mode\")"
   ]
  },
  {
   "cell_type": "code",
   "execution_count": 5,
   "metadata": {},
   "outputs": [],
   "source": [
    "# the name of results files\n",
    "codename = 'kd_example'\n",
    "\n",
    "fnnname = codename + \"_fnn_model\"\n",
    "\n",
    "total_loss_name = codename + \"_total_loss\"\n",
    "soft_loss_name = codename + \"_soft_loss\"\n",
    "tri_loss_name = codename + \"_tri_loss\"\n",
    "acc_name = codename + \"_accuracy\"\n",
    "\n",
    "result_name = codename + \"_result\""
   ]
  },
  {
   "cell_type": "code",
   "execution_count": 6,
   "metadata": {},
   "outputs": [
    {
     "name": "stdout",
     "output_type": "stream",
     "text": [
      "Dataset : CIFAR10\n",
      "Files already downloaded and verified\n",
      "Files already downloaded and verified\n"
     ]
    }
   ],
   "source": [
    "# load the data set\n",
    "instance_datasets = Datasets(DATASET, BATCH_SIZE, NUM_WORKERS, shuffle = False)\n",
    "data_sets = instance_datasets.create()\n",
    "\n",
    "#trainloader = data_sets[0]\n",
    "#testloader = data_sets[1]\n",
    "classes = data_sets[2]\n",
    "based_labels = data_sets[3]\n",
    "trainset = data_sets[4]\n",
    "testset = data_sets[5]"
   ]
  },
  {
   "cell_type": "code",
   "execution_count": 7,
   "metadata": {},
   "outputs": [],
   "source": [
    "# use the KD Triplet Dataset by using above dataset\n",
    "tri_trainset = KDTripletDataset(trainset)\n",
    "tri_testset = KDTripletDataset(testset)\n",
    "tri_trainloader = torch.utils.data.DataLoader(tri_trainset, batch_size = BATCH_SIZE, shuffle = True, num_workers = NUM_WORKERS)\n",
    "tri_testloader = torch.utils.data.DataLoader(tri_testset, batch_size = BATCH_SIZE, shuffle = False, num_workers = NUM_WORKERS)"
   ]
  },
  {
   "cell_type": "code",
   "execution_count": 8,
   "metadata": {},
   "outputs": [],
   "source": [
    "# network and criterions\n",
    "model_t = Net_teacher().to(device)\n",
    "model_s = Net_student().to(device)\n",
    "\n",
    "# model_t.load_state_dict(torch.load(\"cnn_alex.pth\"))\n",
    "params_st = list(model_t.parameters()) + list(model_s.parameters())\n",
    "optimizer = optim.AdamW(params_st, lr=LEARNING_RATE, betas=(0.9, 0.999), eps=1e-08, \n",
    "                        weight_decay=WEIGHT_DECAY, amsgrad=False)\n",
    "scheduler = optim.lr_scheduler.StepLR(optimizer, step_size=SCHEDULER_STEPS, gamma=SCHEDULER_GAMMA)\n",
    "\n",
    "soft_criterion = nn.CrossEntropyLoss()\n",
    "triplet_loss = nn.TripletMarginLoss(margin=TRIPLET_MARGINE)"
   ]
  },
  {
   "cell_type": "code",
   "execution_count": 9,
   "metadata": {},
   "outputs": [],
   "source": [
    "# fit for training and test\n",
    "fit = NetworkFit(model_t, model_s, optimizer, soft_criterion, triplet_loss)"
   ]
  },
  {
   "cell_type": "code",
   "execution_count": 10,
   "metadata": {},
   "outputs": [],
   "source": [
    "# to manage all scores\n",
    "loss = Score()\n",
    "loss_s = Score()\n",
    "loss_t = Score()\n",
    "correct = Score()\n",
    "score_loss = [loss, loss_s, loss_t]\n",
    "score_correct = [correct]\n",
    "sc = ScoreCalc(score_loss, score_correct, BATCH_SIZE)"
   ]
  },
  {
   "cell_type": "code",
   "execution_count": 11,
   "metadata": {},
   "outputs": [
    {
     "name": "stderr",
     "output_type": "stream",
     "text": [
      "Failed to detect the name of this notebook, you can set it manually with the WANDB_NOTEBOOK_NAME environment variable to enable code saving.\n",
      "\u001b[34m\u001b[1mwandb\u001b[0m: Currently logged in as: \u001b[33mspamidi\u001b[0m (use `wandb login --relogin` to force relogin)\n",
      "2022-03-09 16:03:05.917457: W tensorflow/stream_executor/platform/default/dso_loader.cc:64] Could not load dynamic library 'libcudart.so.11.0'; dlerror: libcudart.so.11.0: cannot open shared object file: No such file or directory; LD_LIBRARY_PATH: /usr/local/nvidia/lib64:/usr/local/cuda/lib64\n",
      "2022-03-09 16:03:05.917498: I tensorflow/stream_executor/cuda/cudart_stub.cc:29] Ignore above cudart dlerror if you do not have a GPU set up on your machine.\n"
     ]
    },
    {
     "data": {
      "text/html": [
       "Tracking run with wandb version 0.12.11"
      ],
      "text/plain": [
       "<IPython.core.display.HTML object>"
      ]
     },
     "metadata": {},
     "output_type": "display_data"
    },
    {
     "data": {
      "text/html": [
       "Run data is saved locally in <code>/home/spamidi/Triplet-Loss-for-Knowledge-Distillation-master/wandb/run-20220309_160303-3otnasy6</code>"
      ],
      "text/plain": [
       "<IPython.core.display.HTML object>"
      ]
     },
     "metadata": {},
     "output_type": "display_data"
    },
    {
     "data": {
      "text/html": [
       "Syncing run <strong><a href=\"https://wandb.ai/spamidi/251b_distillation_metric/runs/3otnasy6\" target=\"_blank\">honest-hill-4</a></strong> to <a href=\"https://wandb.ai/spamidi/251b_distillation_metric\" target=\"_blank\">Weights & Biases</a> (<a href=\"https://wandb.me/run\" target=\"_blank\">docs</a>)<br/>"
      ],
      "text/plain": [
       "<IPython.core.display.HTML object>"
      ]
     },
     "metadata": {},
     "output_type": "display_data"
    },
    {
     "data": {
      "text/html": [
       "<button onClick=\"this.nextSibling.style.display='block';this.style.display='none';\">Display W&B run</button><iframe src=\"https://wandb.ai/spamidi/251b_distillation_metric/runs/3otnasy6?jupyter=true\" style=\"border:none;width:100%;height:420px;display:none;\"></iframe>"
      ],
      "text/plain": [
       "<wandb.sdk.wandb_run.Run at 0x7f5534149970>"
      ]
     },
     "execution_count": 11,
     "metadata": {},
     "output_type": "execute_result"
    }
   ],
   "source": [
    "import wandb\n",
    "wandb.init(project='251b_distillation_metric')"
   ]
  },
  {
   "cell_type": "code",
   "execution_count": 12,
   "metadata": {},
   "outputs": [],
   "source": [
    "wandb.config.update({\"KD_LAMBDA\": KD_LAMBDA,\"TRIPLET_MARGINE\": TRIPLET_MARGINE})"
   ]
  },
  {
   "cell_type": "code",
   "execution_count": null,
   "metadata": {},
   "outputs": [
    {
     "name": "stdout",
     "output_type": "stream",
     "text": [
      "epoch 1\n",
      "train mean loss=10.759288651428223, accuracy=0.28864\n",
      "test mean loss=11.76998985595703, accuracy=0.2883\n",
      "epoch 2\n",
      "train mean loss=9.414013042907715, accuracy=0.30644\n",
      "test mean loss=9.708882153320312, accuracy=0.3082\n",
      "epoch 3\n",
      "train mean loss=7.930045469665528, accuracy=0.28668\n",
      "test mean loss=8.64157592163086, accuracy=0.2908\n",
      "epoch 4\n",
      "train mean loss=8.807560066223145, accuracy=0.30388\n",
      "test mean loss=9.452113809204102, accuracy=0.3117\n",
      "epoch 5\n",
      "train mean loss=6.803151614074707, accuracy=0.36482\n",
      "test mean loss=7.381226063537597, accuracy=0.358\n",
      "epoch 6\n",
      "train mean loss=7.676170022583007, accuracy=0.35058\n",
      "test mean loss=8.226743469238281, accuracy=0.3513\n",
      "epoch 7\n",
      "train mean loss=6.137057235412597, accuracy=0.38238\n",
      "test mean loss=6.732665087890625, accuracy=0.3773\n",
      "epoch 8\n",
      "train mean loss=6.198793807373047, accuracy=0.39806\n",
      "test mean loss=6.886965162658691, accuracy=0.3928\n",
      "epoch 9\n",
      "train mean loss=6.274522077026367, accuracy=0.39062\n",
      "test mean loss=6.711544671630859, accuracy=0.3867\n",
      "epoch 10\n",
      "train mean loss=6.037075894622803, accuracy=0.39594\n",
      "test mean loss=6.810756195068359, accuracy=0.3909\n",
      "epoch 11\n",
      "train mean loss=4.3032348492431645, accuracy=0.46624\n",
      "test mean loss=4.974866349029541, accuracy=0.4632\n",
      "epoch 12\n",
      "train mean loss=4.250399731292725, accuracy=0.4712\n",
      "test mean loss=4.7836657341003415, accuracy=0.4686\n",
      "epoch 13\n",
      "train mean loss=4.15056586730957, accuracy=0.4847\n",
      "test mean loss=4.790165177154541, accuracy=0.4763\n",
      "epoch 14\n",
      "train mean loss=3.9266126261901855, accuracy=0.49118\n",
      "test mean loss=4.684832131195068, accuracy=0.4828\n",
      "epoch 15\n",
      "train mean loss=3.8508401597595214, accuracy=0.49776\n",
      "test mean loss=4.65846033706665, accuracy=0.483\n",
      "epoch 16\n",
      "train mean loss=3.8899190382385256, accuracy=0.49814\n",
      "test mean loss=4.573196028137207, accuracy=0.4879\n",
      "epoch 17\n",
      "train mean loss=3.756336846008301, accuracy=0.50118\n",
      "test mean loss=4.52561566619873, accuracy=0.4909\n",
      "epoch 18\n",
      "train mean loss=3.7751750588989257, accuracy=0.50898\n",
      "test mean loss=4.485955722045898, accuracy=0.4984\n",
      "epoch 19\n",
      "train mean loss=3.7882409942626953, accuracy=0.50966\n",
      "test mean loss=4.4317338729858395, accuracy=0.4981\n",
      "epoch 20\n",
      "train mean loss=3.67360757522583, accuracy=0.51676\n",
      "test mean loss=4.367605843353272, accuracy=0.5033\n",
      "epoch 21\n",
      "train mean loss=3.6166963362121582, accuracy=0.52066\n",
      "test mean loss=4.305307384490967, accuracy=0.5103\n",
      "epoch 22\n",
      "train mean loss=3.5064074131774903, accuracy=0.52136\n",
      "test mean loss=4.258631818389893, accuracy=0.5104\n",
      "epoch 23\n",
      "train mean loss=3.5217768243408205, accuracy=0.52374\n",
      "test mean loss=4.245805976104736, accuracy=0.5133\n",
      "epoch 24\n",
      "train mean loss=3.4330367324829103, accuracy=0.52428\n",
      "test mean loss=4.219959228515625, accuracy=0.5108\n",
      "epoch 25\n",
      "train mean loss=3.5423553186798094, accuracy=0.5225\n",
      "test mean loss=4.243426502990722, accuracy=0.5119\n",
      "epoch 26\n",
      "train mean loss=3.568936020278931, accuracy=0.52414\n",
      "test mean loss=4.259064096832275, accuracy=0.5115\n",
      "epoch 27\n",
      "train mean loss=3.5120498373413085, accuracy=0.527\n",
      "test mean loss=4.340750255584717, accuracy=0.5123\n",
      "epoch 28\n",
      "train mean loss=3.5351865759277343, accuracy=0.52422\n",
      "test mean loss=4.2842051124572755, accuracy=0.5112\n",
      "epoch 29\n",
      "train mean loss=3.508052625579834, accuracy=0.52772\n",
      "test mean loss=4.270737650299072, accuracy=0.5128\n",
      "epoch 30\n",
      "train mean loss=3.423165877380371, accuracy=0.5289\n",
      "test mean loss=4.228329158782959, accuracy=0.5176\n",
      "epoch 31\n",
      "train mean loss=3.45997508392334, accuracy=0.52742\n",
      "test mean loss=4.266132215881347, accuracy=0.5142\n",
      "epoch 32\n",
      "train mean loss=3.465230111694336, accuracy=0.52864\n",
      "test mean loss=4.2252732955932615, accuracy=0.5161\n",
      "epoch 33\n",
      "train mean loss=3.4735994345092776, accuracy=0.52938\n",
      "test mean loss=4.2482979904174805, accuracy=0.5182\n",
      "epoch 34\n",
      "train mean loss=3.47038779006958, accuracy=0.5265\n",
      "test mean loss=4.288227880859375, accuracy=0.5126\n",
      "epoch 35\n",
      "train mean loss=3.415074635925293, accuracy=0.5298\n",
      "test mean loss=4.200161039733887, accuracy=0.5149\n",
      "epoch 36\n",
      "train mean loss=3.445174311065674, accuracy=0.52984\n",
      "test mean loss=4.206431272888183, accuracy=0.5159\n",
      "epoch 37\n",
      "train mean loss=3.4412626515197755, accuracy=0.52916\n",
      "test mean loss=4.202396767425537, accuracy=0.5136\n",
      "epoch 39\n",
      "train mean loss=3.4929704762268066, accuracy=0.52876\n",
      "test mean loss=4.216282344055176, accuracy=0.5156\n",
      "epoch 40\n",
      "train mean loss=3.497208250274658, accuracy=0.52896\n",
      "test mean loss=4.198303745269776, accuracy=0.5173\n",
      "epoch 41\n",
      "train mean loss=3.49240247177124, accuracy=0.52864\n",
      "test mean loss=4.1937774024963375, accuracy=0.5171\n",
      "epoch 42\n",
      "train mean loss=3.3589184997558594, accuracy=0.5287\n",
      "test mean loss=4.202657450866699, accuracy=0.5154\n",
      "epoch 43\n",
      "train mean loss=3.499090033569336, accuracy=0.52922\n",
      "test mean loss=4.212646849822998, accuracy=0.5156\n",
      "epoch 44\n",
      "train mean loss=3.506907906341553, accuracy=0.52868\n",
      "test mean loss=4.244795349121094, accuracy=0.5138\n",
      "epoch 45\n",
      "train mean loss=3.477046631164551, accuracy=0.53022\n",
      "test mean loss=4.204254933929444, accuracy=0.5149\n",
      "epoch 46\n",
      "train mean loss=3.4341041172790527, accuracy=0.52926\n",
      "test mean loss=4.219113423156738, accuracy=0.513\n",
      "epoch 47\n",
      "train mean loss=3.483926566619873, accuracy=0.52844\n",
      "test mean loss=4.208801417541504, accuracy=0.5145\n",
      "epoch 48\n",
      "train mean loss=3.4869699739837645, accuracy=0.52802\n",
      "test mean loss=4.278117790222168, accuracy=0.5141\n",
      "epoch 49\n",
      "train mean loss=3.3749417753601074, accuracy=0.5305\n",
      "test mean loss=4.2060787399291995, accuracy=0.5179\n",
      "epoch 50\n",
      "train mean loss=3.4140339699554443, accuracy=0.5291\n",
      "test mean loss=4.229176705932617, accuracy=0.5123\n",
      "epoch 51\n",
      "train mean loss=3.429342214050293, accuracy=0.5286\n",
      "epoch 52\n",
      "train mean loss=3.3523266772460936, accuracy=0.5291\n",
      "test mean loss=4.196230004119873, accuracy=0.5155\n",
      "epoch 53\n",
      "train mean loss=3.436906216125488, accuracy=0.52754\n",
      "test mean loss=4.190991887664795, accuracy=0.5143\n",
      "epoch 55\n",
      "train mean loss=3.3582989533996583, accuracy=0.53032\n",
      "test mean loss=4.186315713500977, accuracy=0.5174\n",
      "epoch 56\n"
     ]
    }
   ],
   "source": [
    "# training and test\n",
    "for epoch in range(EPOCH):\n",
    "    print('epoch', epoch+1)\n",
    "    \n",
    "    for (inputs, labels) in tri_trainloader:\n",
    "        img1_t = inputs[0].to(device)\n",
    "        img2_s = inputs[0].to(device)\n",
    "        img3_s = inputs[1].to(device)\n",
    "        \n",
    "        images = (img1_t, img2_s, img3_s)\n",
    "        \n",
    "        label1_t = labels[0].to(device)\n",
    "        label2_s = labels[0].to(device)\n",
    "        label3_s = labels[1].to(device)\n",
    "\n",
    "        label = (label1_t, label2_s, label3_s)\n",
    "        loss_train = fit.train(images, label, KD_LAMBDA)\n",
    "        wandb.log({\"train_loss\":loss_train})\n",
    "        \n",
    "    for (inputs, labels) in tri_trainloader:\n",
    "        img1_t = inputs[0].to(device)\n",
    "        img2_s = inputs[0].to(device)\n",
    "        img3_s = inputs[1].to(device)\n",
    "        \n",
    "        images = (img1_t, img2_s, img3_s)\n",
    "        \n",
    "        label1_t = labels[0].to(device)\n",
    "        label2_s = labels[0].to(device)\n",
    "        label3_s = labels[1].to(device)\n",
    "        \n",
    "        label = (label1_t, label2_s, label3_s)\n",
    "        \n",
    "        losses, corrects = fit.test(images, label, KD_LAMBDA)\n",
    "        \n",
    "        losses, corrects = sc.calc_sum(losses, corrects)\n",
    "        wandb.log({\"valid_loss\":losses[0].get_score()})\n",
    "        \n",
    "    sc.score_print(len(trainset))\n",
    "    sc.score_append(len(trainset))\n",
    "    sc.score_del()\n",
    "    \n",
    "    for (inputs, labels) in tri_testloader:\n",
    "        img1_t = inputs[0].to(device)\n",
    "        img2_s = inputs[0].to(device)\n",
    "        img3_s = inputs[1].to(device)\n",
    "        \n",
    "        images = (img1_t, img2_s, img3_s)\n",
    "        \n",
    "        label1_t = labels[0].to(device)\n",
    "        label2_s = labels[0].to(device)\n",
    "        label3_s = labels[1].to(device)\n",
    "        \n",
    "        label = (label1_t, label2_s, label3_s)\n",
    "        wandb.log({\"train_loss\":loss_train})\n",
    "        losses, corrects = fit.test(images, label, KD_LAMBDA)\n",
    "        \n",
    "        losses, corrects = sc.calc_sum(losses, corrects)\n",
    "        wandb.log({\"test_loss\":losses[0].get_score()})\n",
    "    \n",
    "    sc.score_print(len(testset), train = False)\n",
    "    sc.score_append(len(testset), train = False)\n",
    "    sc.score_del()\n",
    "    \n",
    "    scheduler.step()\n",
    "    \n",
    "    torch.save(model_s.state_dict(), 'epoch_saved.pth')"
   ]
  },
  {
   "cell_type": "code",
   "execution_count": null,
   "metadata": {},
   "outputs": [],
   "source": [
    "# get the scores\n",
    "train_losses, train_corrects = sc.get_value()\n",
    "test_losses, test_corrects = sc.get_value(train = False)"
   ]
  },
  {
   "cell_type": "code",
   "execution_count": null,
   "metadata": {},
   "outputs": [],
   "source": [
    "# output the glaphs of the scores\n",
    "torch.save(model_s.state_dict(), fnnname + '.pth')\n",
    "\n",
    "savescore.plot_score(EPOCH, train_losses[0], test_losses[0], y_lim = 5.0, y_label = 'LOSS', legend = ['train loss', 'test loss'], title = 'total loss', filename = total_loss_name)\n",
    "\n",
    "savescore.plot_score(EPOCH, train_losses[1], test_losses[1], y_lim = 5.0, y_label = 'LOSS', legend = ['train loss', 'test loss'], title = 'softmax loss', filename = soft_loss_name)\n",
    "\n",
    "savescore.plot_score(EPOCH, train_losses[2], test_losses[2], y_lim = 5.0, y_label = 'LOSS', legend = ['train loss', 'test loss'], title = 'triplet loss', filename = tri_loss_name)\n",
    "\n",
    "savescore.plot_score(EPOCH, train_corrects[0], test_corrects[0], y_lim = 1, y_label = 'ACCURACY', legend = ['train acc', 'test acc'], title = 'accuracy', filename = acc_name)\n",
    "\n",
    "savescore.save_data(train_losses[0], test_losses[0], train_corrects[0], test_corrects[0], result_name)"
   ]
  },
  {
   "cell_type": "code",
   "execution_count": null,
   "metadata": {},
   "outputs": [],
   "source": []
  },
  {
   "cell_type": "code",
   "execution_count": null,
   "metadata": {},
   "outputs": [],
   "source": []
  },
  {
   "cell_type": "code",
   "execution_count": null,
   "metadata": {},
   "outputs": [],
   "source": []
  },
  {
   "cell_type": "code",
   "execution_count": null,
   "metadata": {},
   "outputs": [],
   "source": []
  },
  {
   "cell_type": "code",
   "execution_count": null,
   "metadata": {},
   "outputs": [],
   "source": []
  }
 ],
 "metadata": {
  "kernelspec": {
   "display_name": "Python 3 (ipykernel)",
   "language": "python",
   "name": "python3"
  },
  "language_info": {
   "codemirror_mode": {
    "name": "ipython",
    "version": 3
   },
   "file_extension": ".py",
   "mimetype": "text/x-python",
   "name": "python",
   "nbconvert_exporter": "python",
   "pygments_lexer": "ipython3",
   "version": "3.9.5"
  }
 },
 "nbformat": 4,
 "nbformat_minor": 4
}
